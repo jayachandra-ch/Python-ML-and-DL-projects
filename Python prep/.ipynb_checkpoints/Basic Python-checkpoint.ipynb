{
 "cells": [
  {
   "cell_type": "markdown",
   "metadata": {},
   "source": [
    "# Basic syntax"
   ]
  },
  {
   "cell_type": "markdown",
   "metadata": {},
   "source": [
    "### Comments and Terminator"
   ]
  },
  {
   "cell_type": "markdown",
   "metadata": {},
   "source": [
    "Python only has one way of doing comments and that is using #.Triple quotes are treated as regular strings with the exception that they can span multiple lines. By regular strings I mean that if they are not assigned to a variable they will be immediately garbage collected as soon as that code executes. "
   ]
  },
  {
   "cell_type": "code",
   "execution_count": null,
   "metadata": {},
   "outputs": [],
   "source": [
    "# Python uses the ; as a separator, not as a terminator.\n",
    "\n",
    "print('Welcome to python programming language')        # no semicolon is used at the end of print function\n"
   ]
  },
  {
   "cell_type": "code",
   "execution_count": null,
   "metadata": {},
   "outputs": [],
   "source": [
    "x=6\n",
    "y=x*6\n",
    "print(y)"
   ]
  },
  {
   "cell_type": "markdown",
   "metadata": {},
   "source": [
    "### Lines and Identation"
   ]
  },
  {
   "cell_type": "markdown",
   "metadata": {},
   "source": [
    "Python does not use braces({}) to indicate blocks of code for class and function definitions or flow control. Blocks of code\n",
    "are denoted by line indentation, which is rigidly enforced.Python uses indentation as its method of grouping statements.The number of spaces in the indentation is variable, but all statements within the block must be indented the same amount."
   ]
  },
  {
   "cell_type": "code",
   "execution_count": null,
   "metadata": {},
   "outputs": [],
   "source": [
    "if True:\n",
    " print('True')\n",
    " print(' How are you?')\n",
    " \n",
    "else:\n",
    " print (\"False\")\n",
    " print ('Excellent job')"
   ]
  },
  {
   "cell_type": "markdown",
   "metadata": {},
   "source": [
    "### Multiple Statements on a Single Line\n",
    "\n"
   ]
  },
  {
   "cell_type": "code",
   "execution_count": null,
   "metadata": {},
   "outputs": [],
   "source": [
    "print('hello');print('hi')"
   ]
  },
  {
   "cell_type": "markdown",
   "metadata": {},
   "source": [
    "### Multi-Line Statements"
   ]
  },
  {
   "cell_type": "code",
   "execution_count": null,
   "metadata": {},
   "outputs": [],
   "source": [
    "itemone =10\n",
    "itemtwo= 20\n",
    "itemthree=30\n",
    "total=itemone+\\\n",
    "      itemtwo+\\\n",
    "      itemthree\n",
    "print('The total is',total) # The use of the line continuation character (\\) to denote that the line should continue       "
   ]
  },
  {
   "cell_type": "markdown",
   "metadata": {},
   "source": [
    "### Quotation in Python"
   ]
  },
  {
   "cell_type": "markdown",
   "metadata": {},
   "source": [
    "Triple quotes are treated as regular strings with the exception that they can span multiple lines. They are not a substitute for multi line comments. By regular strings I mean that if they are not assigned to a variable they will be immediately garbage collected as soon as that code executes."
   ]
  },
  {
   "cell_type": "code",
   "execution_count": null,
   "metadata": {},
   "outputs": [],
   "source": [
    "'''Python accepts single ('), double (\") and triple quotes to denote string literals, as long as the same type of\n",
    "quote starts and ends the string. The triple quotes are used to span the string across multiple lines. For example, all the \n",
    "following are legal'''\n",
    "\n",
    "word = 'word'\n",
    "sentence = \"This is a sentence.\"\n",
    "paragraph = \"\"\"This is a paragraph. It is\n",
    "made up of multiple lines and sentences.\"\"\" # double quotes can also be used in triple quotes\n",
    "print(paragraph)\n"
   ]
  },
  {
   "cell_type": "markdown",
   "metadata": {},
   "source": [
    "### Multiple Assignment"
   ]
  },
  {
   "cell_type": "code",
   "execution_count": null,
   "metadata": {},
   "outputs": [],
   "source": [
    "a = b = c = 1\n",
    "print(a,b,c)"
   ]
  },
  {
   "cell_type": "code",
   "execution_count": null,
   "metadata": {},
   "outputs": [],
   "source": [
    "a, b, c = 1, 2, \"john\"\n",
    "print(a,b,c)"
   ]
  },
  {
   "cell_type": "markdown",
   "metadata": {},
   "source": [
    "### Input function"
   ]
  },
  {
   "cell_type": "code",
   "execution_count": null,
   "metadata": {},
   "outputs": [],
   "source": [
    "input(\"\\n\\nPress the enter key to exit.\")\n",
    "print('Enter any input')\n",
    "inp = input()\n",
    "print(inp)\n",
    "name = input('What is your name?\\n')\n",
    "print(name)"
   ]
  },
  {
   "cell_type": "code",
   "execution_count": null,
   "metadata": {},
   "outputs": [],
   "source": [
    "a,b= input().split()\n",
    "print(a,b)\n",
    "word1, word2=input('Please enter two words separated by space').split()\n",
    "print(word1, word2)"
   ]
  },
  {
   "cell_type": "markdown",
   "metadata": {},
   "source": [
    "### Write a program to demonstrate simple if\n"
   ]
  },
  {
   "cell_type": "code",
   "execution_count": null,
   "metadata": {},
   "outputs": [],
   "source": [
    "num=input(\"enter a number below 100\\n\")\n",
    "if int(num)<100:\n",
    "    print(\"welldone! you have entered a number below 100\")\n",
    "if int(num)>100:\n",
    "    print(\"badluck!you have entered a number greater than 100\")\n",
    "        "
   ]
  },
  {
   "cell_type": "markdown",
   "metadata": {},
   "source": [
    "### Write a program to demonstrate if-else"
   ]
  },
  {
   "cell_type": "code",
   "execution_count": null,
   "metadata": {},
   "outputs": [],
   "source": [
    "num=input(\"enter a number\\n\")\n",
    "if (int(num)%2)==0:\n",
    "    print(\"The number is even number\")\n",
    "else:\n",
    "    print(\"The number is odd number\")"
   ]
  },
  {
   "cell_type": "markdown",
   "metadata": {},
   "source": [
    "### Write a program to demnostrate nested if "
   ]
  },
  {
   "cell_type": "code",
   "execution_count": null,
   "metadata": {},
   "outputs": [],
   "source": [
    "a, b, c=input('Enter three numbers\\n').split()\n",
    "a=float(a)\n",
    "b=float(b)\n",
    "c=float(c)\n",
    "if((a==b) and (b==c)):\n",
    "    print('all the three numbers are equal')\n",
    "    exit() # Both quit() and exit() can be used to exit a python program\n",
    "if a>b:\n",
    "    if a>c:\n",
    "        print('The largest value is',a)\n",
    "    else:\n",
    "        print('The largest value is',c)\n",
    "else:\n",
    "    if c>b:\n",
    "        print('The largest value is',c)\n",
    "    else:\n",
    "        print('The largest value is',b)\n",
    "               \n",
    "    "
   ]
  },
  {
   "cell_type": "markdown",
   "metadata": {},
   "source": [
    "### Write a program to demonstrate if-else (if-else)\n",
    "\n",
    "Python does not support character datatype, it supports string and the characters as string of length one. By default python accepts input as string. Therefore, in the below program no explicit type casting is done."
   ]
  },
  {
   "cell_type": "code",
   "execution_count": null,
   "metadata": {},
   "outputs": [],
   "source": [
    "ch=input('Enter any character\\n')\n",
    "if((ch>='a') and (ch<='z')or (ch>='A') and (ch<='Z')):\n",
    "    print('This is an alphabet')\n",
    "else:\n",
    "    if ((ch>='0') and (ch<='9')):\n",
    "        print('This is a digit')\n",
    "    else:\n",
    "        print('The character is a special character')\n",
    "        \n"
   ]
  },
  {
   "cell_type": "markdown",
   "metadata": {},
   "source": [
    "### Write a program to demonstrate elif"
   ]
  },
  {
   "cell_type": "code",
   "execution_count": null,
   "metadata": {},
   "outputs": [],
   "source": [
    "s1, s2, s3, s4, s5, s6=input('Enter six subject marks\\n').split()\n",
    "s1=float(s1); s2=float(s2); s3=float(s3);s4=float(s4);s5=float(s5);s6=float(s6)\n",
    "per=float((s1+s2+s3+s4+s5+s6)/6)\n",
    "if per>=70:\n",
    "    print('distinction')\n",
    "elif per>=60:\n",
    "    print('First class')\n",
    "elif per>=50:\n",
    "    print('second class')\n",
    "elif per>=40:\n",
    "    print('Third class')\n",
    "else:\n",
    "    print('Fail')"
   ]
  },
  {
   "cell_type": "markdown",
   "metadata": {},
   "source": [
    "### Simple Method to use ternary operator"
   ]
  },
  {
   "cell_type": "code",
   "execution_count": null,
   "metadata": {},
   "outputs": [],
   "source": [
    "# Program to demonstrate conditional operator\n",
    "a, b = 10, 20\n",
    " \n",
    "# Copy value of a in min if a < b else copy b\n",
    "min = a if a < b else b\n",
    " \n",
    "print(min)"
   ]
  },
  {
   "cell_type": "markdown",
   "metadata": {},
   "source": [
    "### Ternary operator can be written as nested if-else"
   ]
  },
  {
   "cell_type": "code",
   "execution_count": null,
   "metadata": {},
   "outputs": [],
   "source": [
    "# Python program to demonstrate nested ternary operator\n",
    "a, b = 10, 10\n",
    " \n",
    "print (\"Both a and b are equal\" if a == b else \"a is greater than b\"\n",
    "        if a > b else \"b is greater than a\")"
   ]
  },
  {
   "cell_type": "markdown",
   "metadata": {},
   "source": [
    "### Program to demonstrate While loop"
   ]
  },
  {
   "cell_type": "code",
   "execution_count": null,
   "metadata": {},
   "outputs": [],
   "source": [
    "count = 0\n",
    "while (count < 9):\n",
    "   print ('The count is:', count)\n",
    "   count = count + 1\n",
    "\n",
    "print (\"Good bye!\")"
   ]
  },
  {
   "cell_type": "markdown",
   "metadata": {},
   "source": [
    "### Program to demonstrate in-finite loop"
   ]
  },
  {
   "cell_type": "code",
   "execution_count": null,
   "metadata": {},
   "outputs": [],
   "source": [
    "var = 1\n",
    "while var == 1 :  # This constructs an infinite loop\n",
    "   num = input(\"Enter a number  :\")\n",
    "   print (\"You entered: \", num)\n",
    "\n",
    "print (\"Good bye!\")"
   ]
  },
  {
   "cell_type": "markdown",
   "metadata": {},
   "source": [
    "### Using else Statement with While Loop"
   ]
  },
  {
   "cell_type": "code",
   "execution_count": null,
   "metadata": {},
   "outputs": [],
   "source": [
    "# If the else statement is used with a while loop, the else statement is executed when the condition becomes false.\n",
    "count = 0\n",
    "while count < 5:\n",
    "   print (count, \" is  less than 5\")\n",
    "   count = count + 1\n",
    "else:\n",
    "   print (count, \" is not less than 5\")"
   ]
  },
  {
   "cell_type": "markdown",
   "metadata": {},
   "source": [
    "### For loop and their variants"
   ]
  },
  {
   "cell_type": "code",
   "execution_count": null,
   "metadata": {},
   "outputs": [],
   "source": [
    "# In Python, there is no C style for loop, i.e., for (i=0; i<n; i++). There is “for in” loop which is similar to for \n",
    "# each loop in other languages.\n",
    "# If the else statement is used with a for loop, the else statement is executed when the loop has exhausted iterating the list.\n",
    "for i in range(0,10):\n",
    "    print(i)\n",
    "else:\n",
    "    print('finished printing')\n",
    "    "
   ]
  },
  {
   "cell_type": "code",
   "execution_count": null,
   "metadata": {},
   "outputs": [],
   "source": [
    "for i in range(10):\n",
    "    print(i)"
   ]
  },
  {
   "cell_type": "code",
   "execution_count": null,
   "metadata": {},
   "outputs": [],
   "source": [
    "for i in range(0,10,3):\n",
    "    print(i)"
   ]
  },
  {
   "cell_type": "code",
   "execution_count": null,
   "metadata": {},
   "outputs": [],
   "source": [
    "print(range(10))\n",
    "print(list(range(10)))\n",
    "print(list(range(0,10,3)))"
   ]
  },
  {
   "cell_type": "code",
   "execution_count": null,
   "metadata": {},
   "outputs": [],
   "source": [
    "# Syntax: for iterating_var in sequence:\n",
    "#  statements(s)\n",
    "\n",
    "# Iterating over a list\n",
    "print(\"List Iteration\")\n",
    "l = [\"apple\", \"ball\", \"cat\"]\n",
    "for i in l:\n",
    "    print(i)"
   ]
  },
  {
   "cell_type": "code",
   "execution_count": null,
   "metadata": {},
   "outputs": [],
   "source": [
    "# Iterating over a tuple (immutable)\n",
    "print(\"\\nTuple Iteration\")\n",
    "t = (\"apple\", \"ball\", \"cat\")\n",
    "for i in t:\n",
    "    print(i)"
   ]
  },
  {
   "cell_type": "code",
   "execution_count": null,
   "metadata": {},
   "outputs": [],
   "source": [
    "# Iterating over a String\n",
    "print(\"\\nString Iteration\")    \n",
    "s = \"apple\"\n",
    "for i in s :\n",
    "    print(i)"
   ]
  },
  {
   "cell_type": "code",
   "execution_count": null,
   "metadata": {},
   "outputs": [],
   "source": [
    "# Iterating over dictionary\n",
    "print(\"\\nDictionary Iteration\")   \n",
    "d = dict() \n",
    "d['xyz'] = 123\n",
    "d['abc'] = 345\n",
    "for i in d :\n",
    "    print(\"%s  %d\" %(i, d[i]))\n"
   ]
  },
  {
   "cell_type": "code",
   "execution_count": null,
   "metadata": {},
   "outputs": [],
   "source": [
    "fruits = ['banana', 'apple',  'mango']\n",
    "for index in range(len(fruits)):\n",
    "   print ('Current fruit :', fruits[index])\n",
    "\n",
    "print (\"Good bye!\")"
   ]
  },
  {
   "cell_type": "markdown",
   "metadata": {},
   "source": [
    "###  Continue, Continue and Pass statement"
   ]
  },
  {
   "cell_type": "code",
   "execution_count": null,
   "metadata": {},
   "outputs": [],
   "source": [
    "for letter in 'Python':     # First Example\n",
    "   if letter == 'h':\n",
    "      break\n",
    "   print ('Current Letter :', letter)"
   ]
  },
  {
   "cell_type": "code",
   "execution_count": null,
   "metadata": {},
   "outputs": [],
   "source": [
    "for letter in 'Python':     # First Example\n",
    "   if letter == 'h':\n",
    "      continue\n",
    "   print ('Current Letter :', letter)"
   ]
  },
  {
   "cell_type": "code",
   "execution_count": null,
   "metadata": {},
   "outputs": [],
   "source": [
    "# We use pass statement to write empty loops. Pass is also used for empty control statement, function and classes.\n",
    "\n",
    "# An empty loop\n",
    "for letter in 'Jayachandra':\n",
    "    pass\n",
    "print ('Last Letter :', letter)\n"
   ]
  },
  {
   "cell_type": "code",
   "execution_count": null,
   "metadata": {},
   "outputs": [],
   "source": [
    "for letter in 'Python': \n",
    "   if letter == 'h':\n",
    "      pass\n",
    "      print ('This is pass block\\n')\n",
    "   print ('Current Letter :', letter)\n",
    "\n"
   ]
  },
  {
   "cell_type": "markdown",
   "metadata": {},
   "source": [
    "Enumerate is built-in python function that takes input as iterator, list etc and returns a tuple containing index and data at \n",
    "that index in the iterator sequence. For example, enumerate(cars), returns a iterator that will return \n",
    "(0, cars[0]), (1, cars[1]), (2, cars[2]), and so on."
   ]
  },
  {
   "cell_type": "code",
   "execution_count": null,
   "metadata": {},
   "outputs": [],
   "source": [
    "cars = [\"Aston\" , \"Audi\", \"McLaren \"]\n",
    "for i, x in enumerate(cars):\n",
    "    print (i,x)"
   ]
  },
  {
   "cell_type": "code",
   "execution_count": null,
   "metadata": {},
   "outputs": [],
   "source": [
    "cars = [\"Aston\" , \"Audi\", \"McLaren \"]\n",
    "print (enumerate(cars))"
   ]
  },
  {
   "cell_type": "markdown",
   "metadata": {},
   "source": [
    "### Strings"
   ]
  },
  {
   "cell_type": "code",
   "execution_count": null,
   "metadata": {},
   "outputs": [],
   "source": [
    "var1 = 'Hello World!'\n",
    "var2 = \"Python Programming\"\n",
    "print (\"var1[0]: \", var1[0])\n",
    "print (\"var2[1:5]: \", var2[1:5])"
   ]
  },
  {
   "cell_type": "code",
   "execution_count": null,
   "metadata": {},
   "outputs": [],
   "source": [
    "var1 = 'Hello World!'\n",
    "print (\"Updated String :- \", var1[:6] + 'Python')"
   ]
  },
  {
   "cell_type": "markdown",
   "metadata": {},
   "source": [
    "### Functions\n"
   ]
  },
  {
   "cell_type": "code",
   "execution_count": null,
   "metadata": {},
   "outputs": [],
   "source": [
    "'''The statement return [expression] exits a function, optionally passing back an expression to the caller. A return statement \n",
    "with no arguments is the same as return None.'''\n",
    "\n",
    "def printme( str ):\n",
    "   \"This prints a passed string into this function\"\n",
    "   print (str)\n",
    "   return\n",
    "\n",
    "# Now you can call printme function\n",
    "printme(\"I'm first call to user defined function!\")\n",
    "printme(\"Again second call to the same function\")\n",
    "\n",
    "\n"
   ]
  },
  {
   "cell_type": "code",
   "execution_count": null,
   "metadata": {},
   "outputs": [],
   "source": [
    "#add_numbers is a function that takes two numbers and adds them together.\n",
    "def add_numbers(x, y):\n",
    "    return x + y\n",
    "\n",
    "add_numbers(1, 2)"
   ]
  },
  {
   "cell_type": "code",
   "execution_count": null,
   "metadata": {},
   "outputs": [],
   "source": [
    "# add_numbers updated to take an optional 3rd parameter. Using print allows printing of multiple expressions within a single cell.\n",
    "def add_numbers(x,y,z=None):\n",
    "    if (z==None):\n",
    "        return x+y\n",
    "    else:\n",
    "        return x+y+z\n",
    "\n",
    "print(add_numbers(1, 2))\n",
    "print(add_numbers(1, 2, 3))"
   ]
  },
  {
   "cell_type": "code",
   "execution_count": null,
   "metadata": {},
   "outputs": [],
   "source": [
    "# add_numbers updated to take an optional flag parameter.\n",
    "def add_numbers(x, y, z=None, flag=False):\n",
    "    if (flag):\n",
    "        print('Flag is true!')\n",
    "    if (z==None):\n",
    "        return x + y\n",
    "    else:\n",
    "        return x + y + z\n",
    "    \n",
    "print(add_numbers(1, 2, flag=True))\n"
   ]
  },
  {
   "cell_type": "code",
   "execution_count": null,
   "metadata": {},
   "outputs": [],
   "source": [
    "# Assign function add_numbers to variable a.\n",
    "def add_numbers(x,y):\n",
    "    return x+y\n",
    "\n",
    "a = add_numbers\n",
    "a(1,2)"
   ]
  },
  {
   "cell_type": "code",
   "execution_count": null,
   "metadata": {},
   "outputs": [],
   "source": [
    "# Pass by Reference vs Value: All parameters (arguments) in the Python language are passed by reference. It means if you change\n",
    "# what a parameter refers to within a function, the change also reflects back in the calling function.\n",
    "# Function definition is here\n",
    "def changeme( mylist ):\n",
    "   \"This changes a passed list into this function\"\n",
    "   print (\"Values inside the function before change: \", mylist)\n",
    "   mylist[2]=50\n",
    "   print (\"Values inside the function after change: \", mylist)\n",
    "   return\n",
    "\n",
    "# Now you can call changeme function\n",
    "mylist = [10,20,30]\n",
    "changeme( mylist )\n",
    "print (\"Values outside the function: \", mylist)"
   ]
  },
  {
   "cell_type": "code",
   "execution_count": null,
   "metadata": {},
   "outputs": [],
   "source": [
    "# Required arguments: These are the arguments passed to a function in correct positional order. Here, the number of arguments  \n",
    "# in the function call should match exactly with the function definition. This program results in an error.\n",
    "# Function definition is here\n",
    "def printme( str ):\n",
    "   \"This prints a passed string into this function\"\n",
    "   print (str)\n",
    "   return\n",
    "\n",
    "# Now you can call printme function\n",
    "printme()"
   ]
  },
  {
   "cell_type": "code",
   "execution_count": null,
   "metadata": {},
   "outputs": [],
   "source": [
    "# Keyword arguments are related to the function calls. When you use keyword arguments in a function call, the caller identifies\n",
    "# the arguments by the parameter name. This allows you to skip arguments or place them out of order because the Python interpreter\n",
    "# is able to use the keywords provided to match the values with parameters.\n",
    "\n",
    "# Function definition is here\n",
    "def printinfo( name, age ):\n",
    "   \"This prints a passed info into this function\"\n",
    "   print (\"Name: \", name)\n",
    "   print (\"Age \", age)\n",
    "   return\n",
    "\n",
    "# Now you can call printinfo function\n",
    "printinfo( age = 50, name = \"miki\" )"
   ]
  },
  {
   "cell_type": "code",
   "execution_count": null,
   "metadata": {},
   "outputs": [],
   "source": [
    "# Default Arguments: A default argument is an argument that assumes a default value if a value is not provided in the function \n",
    "# callfor that argument.\n",
    "\n",
    "# Function definition is here\n",
    "def printinfo( name, age = 35 ):\n",
    "   \"This prints a passed info into this function\"\n",
    "   print (\"Name: \", name)\n",
    "   print (\"Age \", age)\n",
    "   return\n",
    "\n",
    "# Now you can call printinfo function\n",
    "printinfo( age = 50, name = \"miki\" )\n",
    "printinfo( name = \"miki\" )"
   ]
  },
  {
   "cell_type": "code",
   "execution_count": null,
   "metadata": {},
   "outputs": [],
   "source": [
    "# Non keyworded variable length argument list: The special syntax *args in function definitions in python is used to pass a \n",
    "# variable number of arguments to a function. It is used to pass a non-keyworded, variable-length argument list.\n",
    "\n",
    "def printf(arg1, *argv):\n",
    "    print (\"first argument :\", arg1)\n",
    "    for arg in argv:\n",
    "        print (\"Next argument through *argv :\", arg)\n",
    "        \n",
    " \n",
    "printf('sonakshi')\n",
    "printf('sonu', 'Jayachandra',  'Manju')\n",
    "\n"
   ]
  },
  {
   "cell_type": "code",
   "execution_count": null,
   "metadata": {},
   "outputs": [],
   "source": [
    "# The special syntax **kwargs in function definitions in python is used to pass a keyworded, variable-length argument list. \n",
    "# We use the name kwargs with the double star. The reason is because the double star allows us to pass through keyword arguments \n",
    "#(and any number of them).\n",
    "\n",
    "def hello(**kwargs):\n",
    "    if kwargs is not None:\n",
    "        for key, value in kwargs.items():\n",
    "            print (\"%s == %s\" %(key, value))\n",
    "            \n",
    "hello(name=\"Jayachandra\")"
   ]
  },
  {
   "cell_type": "code",
   "execution_count": null,
   "metadata": {},
   "outputs": [],
   "source": [
    "# The Anonymous Functions: These functions are called anonymous because they are not declared in the standard manner by using the def keyword. \n",
    "# You can use the lambda keyword to create small anonymous functions.\n",
    "# Function definition is here\n",
    "sum = lambda arg1, arg2: arg1 + arg2\n",
    "\n",
    "\n",
    "# Now you can call sum as a function\n",
    "print (\"Value of total : \", sum( 10, 20 ))\n",
    "print (\"Value of total : \", sum( 20, 20 ))"
   ]
  },
  {
   "cell_type": "code",
   "execution_count": null,
   "metadata": {},
   "outputs": [],
   "source": [
    "# A Python program to demonstrate that a function\n",
    "# can be defined inside another function and a\n",
    "# function can be passed as parameter.\n",
    " \n",
    "# Adds a welcome message to the string\n",
    "def messageWithWelcome(str):\n",
    " \n",
    "    # Nested function\n",
    "    def addWelcome():\n",
    "        return \"Welcome to \"\n",
    " \n",
    "    # Return concatenation of addWelcome()\n",
    "    # and str.\n",
    "    return  addWelcome() + str\n",
    " \n",
    "# To get site name to which welcome is added\n",
    "def site(site_name):\n",
    "    return site_name\n",
    " \n",
    "print (messageWithWelcome(site(\"Python programming language\")))\n"
   ]
  },
  {
   "cell_type": "code",
   "execution_count": null,
   "metadata": {},
   "outputs": [],
   "source": [
    "#The yield statement suspends function’s execution and sends a value back to caller, but retains enough state to enable function\n",
    "#to resume where it is left off. When resumed, the function continues execution immediately after the last yield run. \n",
    "#This allows its code to produce a series of values over time, rather them computing them at once and sending them back like a \n",
    "#list.\n",
    "\n",
    "# A Simple Python program to demonstrate working\n",
    "# of yield\n",
    " \n",
    "# A generator function that yields 1 for first time,\n",
    "# 2 second time and 3 third time\n",
    "def simpleGeneratorFun():\n",
    "    yield 1\n",
    "    yield 2\n",
    "    yield 3\n",
    " \n",
    "# Driver code to check above generator function\n",
    "for value in simpleGeneratorFun(): \n",
    "    print(value)\n"
   ]
  },
  {
   "cell_type": "code",
   "execution_count": null,
   "metadata": {
    "scrolled": true
   },
   "outputs": [],
   "source": [
    "# Yield are used in Python generators. A generator function is defined like a normal function, but whenever it needs to generate\n",
    "# a value, it does so with the yield keyword rather than return. If the body of a def contains yield, the function automatically\n",
    "# becomes a generator function.\n",
    "\n",
    "# A Python program to generate squares from 1\n",
    "# to 100 using yield and therefore generator\n",
    " \n",
    "# An infinite generator function that prints\n",
    "# next square number. It starts with 1\n",
    "def nextSquare():\n",
    "    i = 1;\n",
    " \n",
    "    # An Infinite loop to generate squares \n",
    "    while True:\n",
    "        yield i*i                \n",
    "        i += 1  # Next execution resumes \n",
    "                # from this point     \n",
    " \n",
    "# Driver code to test above generator \n",
    "# function\n",
    "for num in nextSquare():\n",
    "    if num > 100:\n",
    "         break   \n",
    "    print(num)"
   ]
  },
  {
   "cell_type": "markdown",
   "metadata": {},
   "source": [
    "### First class functions"
   ]
  },
  {
   "cell_type": "code",
   "execution_count": null,
   "metadata": {},
   "outputs": [],
   "source": [
    "#  A programming language is said to support first-class functions if it treats functions as first-class objects.\n",
    "# Python program to illustrate functions\n",
    "# can be treated as objects\n",
    "def shout(text):\n",
    "    return text.upper()\n",
    " \n",
    "print (shout('Hello'))\n",
    " \n",
    "yell = shout\n",
    " \n",
    "print (yell('Hello'))\n"
   ]
  },
  {
   "cell_type": "code",
   "execution_count": null,
   "metadata": {},
   "outputs": [],
   "source": [
    "# Python program to illustrate functions\n",
    "# can be passed as arguments to other functions\n",
    "def shout(text):\n",
    "    return text.upper()\n",
    " \n",
    "def whisper(text):\n",
    "    return text.lower()\n",
    " \n",
    "def greet(func):\n",
    "    # storing the function in a variable\n",
    "    greeting = func(\"Hi, I am created by a function passed as an argument.\")\n",
    "    print (greeting )\n",
    " \n",
    "greet(shout)\n",
    "greet(whisper)"
   ]
  },
  {
   "cell_type": "code",
   "execution_count": null,
   "metadata": {},
   "outputs": [],
   "source": [
    "# Python program to illustrate functions\n",
    "# Functions can return another function\n",
    " \n",
    "def create_adder(x):\n",
    "    def adder(y):\n",
    "        return x+y\n",
    " \n",
    "    return adder\n",
    " \n",
    "add_15 = create_adder(15)\n",
    " \n",
    "print (add_15(10))"
   ]
  },
  {
   "cell_type": "markdown",
   "metadata": {},
   "source": [
    "### Function decorators"
   ]
  },
  {
   "cell_type": "code",
   "execution_count": null,
   "metadata": {
    "scrolled": true
   },
   "outputs": [],
   "source": [
    "# A decorator is a function that takes a function as its only parameter and returns a function. This is helpful to “wrap” \n",
    "# functionality with the same code over and over again. For example, above code can be re-written as following.\n",
    "# We use @func_name to specify a decorator to be applied on another function.\n",
    "\n",
    "# Adds a welcome message to the string\n",
    "# returned by fun(). Takes fun() as\n",
    "# parameter and returns welcome().\n",
    "def decorate_message(fun):\n",
    "    print('in decorate message function')\n",
    " \n",
    "    # Nested function\n",
    "    def addWelcome(site_name):\n",
    "        print('in add welcome function')\n",
    "        return \"Welcome to \" + fun(site_name)\n",
    "    print('still in decorate message function')\n",
    "    # Decorator returns a function\n",
    "    return addWelcome\n",
    " \n",
    "@decorate_message\n",
    "def site(site_name):\n",
    "    print('in site function')\n",
    "    return site_name;\n",
    " \n",
    "# Driver code\n",
    " \n",
    "# This call is equivalent to call to\n",
    "# decorate_message() with function\n",
    "# site(\"GeeksforGeeks\") as parameter\n",
    "print (site(\"GeeksforGeeks\"))\n"
   ]
  },
  {
   "cell_type": "code",
   "execution_count": null,
   "metadata": {},
   "outputs": [],
   "source": [
    "# A Python example to demonstrate that\n",
    "# decorators can be useful attach data\n",
    " \n",
    "# A decorator function to attach\n",
    "# data to func\n",
    "def attach_data(func):\n",
    "       func.data = 3\n",
    "       return func\n",
    " \n",
    "@attach_data\n",
    "def add (x, y):\n",
    "       return x + y\n",
    " \n",
    "# Driver code\n",
    " \n",
    "# This call is equivalent to attach_data()\n",
    "# with add() as parameter\n",
    "print(add(2, 3))\n",
    " \n",
    "#print(add.data)"
   ]
  },
  {
   "cell_type": "markdown",
   "metadata": {},
   "source": [
    "### Modules and Packages"
   ]
  },
  {
   "cell_type": "code",
   "execution_count": null,
   "metadata": {},
   "outputs": [],
   "source": [
    "# A module is a file (.py extension) containing Python definitions and statements. A module can define functions, classes and\n",
    "# variables. A module can also include runnable code. Grouping related code into a module makes the code easier to understand \n",
    "# and use. The below code results in an error. The correct implementation is in the next cell.\n",
    "import addmul \n",
    "print(addition(9,7))"
   ]
  },
  {
   "cell_type": "code",
   "execution_count": null,
   "metadata": {},
   "outputs": [],
   "source": [
    "import addmul \n",
    "print(addmul.addition(9,7))\n",
    "      "
   ]
  },
  {
   "cell_type": "code",
   "execution_count": null,
   "metadata": {},
   "outputs": [],
   "source": [
    "import addmul as am \n",
    "print(am.multiplication(9,7))\n",
    "      "
   ]
  },
  {
   "cell_type": "code",
   "execution_count": null,
   "metadata": {},
   "outputs": [],
   "source": [
    "# hese explicit relative imports use leading dots to indicate the current and parent packages involved in the relative import. \n",
    "# . indicates current directory and .. indicates parent directory\n",
    "from . import addmul as adm\n",
    "print(adm.addition(2000,1000))"
   ]
  },
  {
   "cell_type": "code",
   "execution_count": null,
   "metadata": {},
   "outputs": [],
   "source": [
    "# A package is a hierarchical file directory structure that defines a single Python application environment that consists of \n",
    "# modules and subpackages and sub-subpackages, and so on. Basically a package is a folder.\n",
    "from TestPackage import subdiv as sd\n",
    "print(sd.div(6,2))"
   ]
  },
  {
   "cell_type": "code",
   "execution_count": null,
   "metadata": {},
   "outputs": [],
   "source": [
    "from TestPackage.subdiv import div as dv\n",
    "print(dv(10,2))"
   ]
  },
  {
   "cell_type": "code",
   "execution_count": null,
   "metadata": {},
   "outputs": [],
   "source": [
    "from TestPackage.subdiv import sub\n",
    "print(sub(10,8))"
   ]
  },
  {
   "cell_type": "code",
   "execution_count": null,
   "metadata": {},
   "outputs": [],
   "source": [
    "from TestPackage import *\n",
    "print(subdiv.sub(200,100))"
   ]
  },
  {
   "cell_type": "code",
   "execution_count": null,
   "metadata": {},
   "outputs": [],
   "source": [
    "import math\n",
    "content = dir(math)\n",
    "print (content)\n",
    "print (math.pow(2,3))\n"
   ]
  },
  {
   "cell_type": "markdown",
   "metadata": {},
   "source": [
    "### Object Oriented Programming"
   ]
  },
  {
   "cell_type": "code",
   "execution_count": null,
   "metadata": {},
   "outputs": [],
   "source": [
    "# An empty class\n",
    "class Sonakshi:\n",
    "    pass"
   ]
  },
  {
   "cell_type": "code",
   "execution_count": null,
   "metadata": {},
   "outputs": [],
   "source": [
    "# A simple example class\n",
    "class Test:\n",
    "     \n",
    "    # A sample method \n",
    "    def fun(self):\n",
    "        print(\"Hello\")\n",
    " \n",
    "# Driver code\n",
    "obj = Test() # we create an object/instance of this class using the name of the class followed by a pair of parentheses.\n",
    "obj.fun()\n",
    "obj.a=4\n",
    "print(obj.a) # We can also create addition instance datamembers though class doesnt have them. a is not member of class even \n",
    "# then we can create it. This is something different from c++ and Java.\n",
    "\n",
    "# Class methods must have an extra first parameter in method definition. We do not give a value for this parameter when we call\n",
    "# the method, Python provides it. If we have a method which takes no arguments, then we still have to have one argument – the \n",
    "# self. see fun() in above simple example. This is similar to this pointer in C++ and this reference in Java. When we call a \n",
    "# method of this object as myobject.method(arg1, arg2), this is automatically converted by Python into \n",
    "# MyClass.method(myobject, arg1, arg2) – this is all the special self is about."
   ]
  },
  {
   "cell_type": "markdown",
   "metadata": {},
   "source": [
    "### Hidden datamember similar to Private datamembers in C++ and Java"
   ]
  },
  {
   "cell_type": "code",
   "execution_count": null,
   "metadata": {},
   "outputs": [],
   "source": [
    "# In Python, we use double underscore (Or __) before the attributes name and those attributes will not be directly visible \n",
    "# outside.\n",
    "\n",
    "class MyClass:\n",
    " \n",
    "    # Hidden member of MyClass\n",
    "    __hiddenVariable = 0\n",
    "   \n",
    "    # A member method that changes \n",
    "    # __hiddenVariable \n",
    "    def add(self, increment):\n",
    "        self.__hiddenVariable += increment\n",
    "        print (self.__hiddenVariable)\n",
    "  \n",
    "# Driver code\n",
    "myObject = MyClass()     \n",
    "myObject.add(2)\n",
    "myObject.add(5)\n",
    " \n",
    "# This line causes error\n",
    "print (myObject.__hiddenVariable) # we tried to access hidden variable outside the class using object and it threw an exception.\n"
   ]
  },
  {
   "cell_type": "code",
   "execution_count": null,
   "metadata": {},
   "outputs": [],
   "source": [
    "# A Python program to demonstrate that hidden\n",
    "# members can be accessed outside a class\n",
    "class MyClass:\n",
    " \n",
    "    # Hidden member of MyClass\n",
    "    __hiddenVariable = 10\n",
    " \n",
    "# Driver code\n",
    "myObject = MyClass()     \n",
    "print(myObject._MyClass__hiddenVariable)\n",
    "\n",
    "# Private methods are accessible outside their class, just not easily accessible. Nothing in Python is truly private; internally, \n",
    "# the names of private methods and attributes are mangled and unmangled on the fly to make them seem inaccessible by their given \n",
    "# names."
   ]
  },
  {
   "cell_type": "markdown",
   "metadata": {},
   "source": [
    "### Constructors"
   ]
  },
  {
   "cell_type": "code",
   "execution_count": null,
   "metadata": {},
   "outputs": [],
   "source": [
    "#The __init__ method is similar to constructors in C++ and Java. It is run as soon as an object of a class is instantiated. \n",
    "#The method is useful to do any initialization you want to do with your object.\n",
    "\n",
    "# A Sample class with init method\n",
    "class Person:\n",
    " \n",
    "    # init method or constructor \n",
    "    def __init__(self, name):\n",
    "        self.name = name\n",
    " \n",
    "    # Sample Method \n",
    "    def say_hi(self):\n",
    "        print('Hello, my name is', self.name)\n",
    " \n",
    "p = Person('Jayachandra')\n",
    "p.say_hi()"
   ]
  },
  {
   "cell_type": "code",
   "execution_count": null,
   "metadata": {},
   "outputs": [],
   "source": [
    "# Python program to show that the variables with a value \n",
    "# assigned in class declaration, are class variables and\n",
    "# variables inside methods and constructors are instance\n",
    "# variables.\n",
    "  \n",
    "# Class for Computer Science Student\n",
    "class CSStudent:\n",
    " \n",
    "    # Class Variable\n",
    "    stream = 'cse'            \n",
    " \n",
    "    # The init method or constructor\n",
    "    def __init__(self, roll):\n",
    "   \n",
    "        # Instance Variable    \n",
    "        self.roll = roll       \n",
    "  \n",
    "# Objects of CSStudent class\n",
    "a = CSStudent(101)\n",
    "b = CSStudent(102)\n",
    "  \n",
    "print(a.stream)  # prints \"cse\"\n",
    "print(b.stream)  # prints \"cse\"\n",
    "print(a.roll)    # prints 101\n",
    "  \n",
    "# Class variables can be accessed using class\n",
    "# name also\n",
    "print(CSStudent.stream) # prints \"cse\"   "
   ]
  },
  {
   "cell_type": "code",
   "execution_count": null,
   "metadata": {},
   "outputs": [],
   "source": [
    "# We can define instance variables inside normal methods also.\n",
    "\n",
    "# Python program to show that we can create \n",
    "# instance variables inside methods\n",
    "  \n",
    "# Class for Computer Science Student\n",
    "class CSStudent:\n",
    "     \n",
    "    # Class Variable\n",
    "    stream = 'cse'     \n",
    "     \n",
    "    # The init method or constructor\n",
    "    def __init__(self, roll):\n",
    "         \n",
    "        # Instance Variable\n",
    "        self.roll = roll            \n",
    " \n",
    "    # Adds an instance variable \n",
    "    def setAddress(self, address):\n",
    "        self.address = address\n",
    "     \n",
    "    # Retrieves instance variable    \n",
    "    def getAddress(self):    \n",
    "        return self.address   \n",
    " \n",
    "# Driver Code\n",
    "a = CSStudent(101)\n",
    "a.setAddress(\"Noida, UP\")\n",
    "print(a.getAddress()) "
   ]
  },
  {
   "cell_type": "markdown",
   "metadata": {},
   "source": [
    "### Printing Objects"
   ]
  },
  {
   "cell_type": "markdown",
   "metadata": {},
   "source": [
    "Printing objects gives us information about objects we are working with. In C++, we can do this by adding a friend ostream& operator << (ostream&, const Foobar&) method for the class. In Java, we use toString() method. In python this can be achieved by using __repr__ or __str__ methods.### Printing objects"
   ]
  },
  {
   "cell_type": "code",
   "execution_count": null,
   "metadata": {},
   "outputs": [],
   "source": [
    "\n",
    "class Test:\n",
    "    def __init__(self, a, b):\n",
    "        self.a = a\n",
    "        self.b = b\n",
    " \n",
    "    def __repr__(self):\n",
    "        return \"Test a:%s b:%s\" % (self.a, self.b)\n",
    " \n",
    "    def __str__(self):\n",
    "        return \"From str method of Test: a is %s,\" \\\n",
    "              \"b is %s\" % (self.a, self.b)\n",
    " \n",
    "# Driver Code        \n",
    "t = Test(1234, 5678)\n",
    "print(t) # This calls __str__()\n",
    "print([t]) # This calls __repr__()"
   ]
  },
  {
   "cell_type": "code",
   "execution_count": null,
   "metadata": {},
   "outputs": [],
   "source": [
    "# If no __str__ method is defined, print t (or print str(t)) uses __repr__.\n",
    "class Test:\n",
    "    def __init__(self, a, b):\n",
    "        self.a = a\n",
    "        self.b = b\n",
    " \n",
    "    def __repr__(self):\n",
    "        return \"Test a:%s b:%s\" % (self.a, self.b)\n",
    " \n",
    "# Driver Code        \n",
    "t = Test(1234, 5678)\n",
    "print(t) "
   ]
  },
  {
   "cell_type": "code",
   "execution_count": null,
   "metadata": {},
   "outputs": [],
   "source": [
    "# If no __repr__ method is defined then the default is used.\n",
    "class Test:\n",
    "    def __init__(self, a, b):\n",
    "        self.a = a\n",
    "        self.b = b\n",
    " \n",
    "# Driver Code        \n",
    "t = Test(1234, 5678)\n",
    "print(t) "
   ]
  },
  {
   "cell_type": "markdown",
   "metadata": {},
   "source": [
    "### Built-in Attributes"
   ]
  },
  {
   "cell_type": "code",
   "execution_count": null,
   "metadata": {},
   "outputs": [],
   "source": [
    "# Every Python class keeps following built-in attributes and they can be accessed using dot operator like any other attribute\n",
    "\n",
    "class Employee:\n",
    "   'Common base class for all employees'\n",
    "   empCount = 0\n",
    "\n",
    "   def __init__(self, name, salary):\n",
    "      self.name = name\n",
    "      self.salary = salary\n",
    "      Employee.empCount += 1\n",
    "   \n",
    "   def displayCount(self):\n",
    "     print (\"Total Employee %d\" % Employee.empCount)\n",
    "\n",
    "   def displayEmployee(self):\n",
    "      print (\"Name : \", self.name,  \", Salary: \", self.salary)\n",
    "\n",
    "emp1 = Employee(\"Zara\", 2000)\n",
    "emp2 = Employee(\"Manni\", 5000)\n",
    "print (\"Employee.__doc__:\", Employee.__doc__)\n",
    "print (\"Employee.__name__:\", Employee.__name__)\n",
    "print (\"Employee.__module__:\", Employee.__module__)\n",
    "print (\"Employee.__bases__:\", Employee.__bases__)\n"
   ]
  },
  {
   "cell_type": "code",
   "execution_count": null,
   "metadata": {},
   "outputs": [],
   "source": [
    "# Instead of using the normal statements to access attributes, you can use the following functions \n",
    "class Employee:\n",
    "   'Common base class for all employees'\n",
    "   empCount = 0\n",
    "\n",
    "   def __init__(self, name, salary):\n",
    "      self.name = name\n",
    "      self.salary = salary\n",
    "      Employee.empCount += 1\n",
    "   \n",
    "   def displayCount(self):\n",
    "     print (\"Total Employee %d\" % Employee.empCount)\n",
    "\n",
    "   def displayEmployee(self):\n",
    "      print (\"Name : \", self.name,  \", Salary: \", self.salary)\n",
    "\n",
    "\n",
    "#This would create first object of Employee class\"\n",
    "emp1 = Employee(\"Zara\", 2000)\n",
    "#This would create second object of Employee class\"\n",
    "emp2 = Employee(\"Manni\", 5000)\n",
    "emp1.displayEmployee()\n",
    "emp2.displayEmployee()\n",
    "print (\"Total Employee %d\" % Employee.empCount)\n",
    "\n",
    "print(hasattr(emp1, 'salary'))    # Returns true if 'salary' attribute exists\n",
    "print(getattr(emp1, 'salary'))    # Returns value of 'salary' attribute\n",
    "setattr(emp1, 'salary', 7000) # Set attribute 'salary' at 7000\n",
    "# delattr(emp1, 'salary')    # Delete attribute 'salary'\n",
    "print(getattr(emp1, 'salary'))\n"
   ]
  },
  {
   "cell_type": "markdown",
   "metadata": {},
   "source": [
    "### Destructor"
   ]
  },
  {
   "cell_type": "code",
   "execution_count": null,
   "metadata": {},
   "outputs": [],
   "source": [
    "# This __del__() destructor prints the class name of an instance that is about to be destroyed −\n",
    "class Point:\n",
    "   def __init__( self, x=0, y=0):\n",
    "      self.x = x\n",
    "      self.y = y\n",
    "   def __del__(self):\n",
    "      class_name = self.__class__.__name__\n",
    "      print (class_name, \"destroyed\")\n",
    "\n",
    "pt1 = Point()\n",
    "pt2 = pt1\n",
    "pt3 = pt1\n",
    "print (id(pt1), id(pt2), id(pt3));   # prints the ids of the obejcts\n",
    "del pt1\n",
    "del pt2\n",
    "del pt3"
   ]
  },
  {
   "cell_type": "markdown",
   "metadata": {},
   "source": [
    "### Inheritance"
   ]
  },
  {
   "cell_type": "code",
   "execution_count": null,
   "metadata": {},
   "outputs": [],
   "source": [
    "# A Python program to demonstrate inheritance \n",
    " \n",
    "# Base or Super class. Note object in bracket.\n",
    "# (Generally, object is made ancestor of all classes)\n",
    "# In Python 3.x \"class Person\" is \n",
    "# equivalent to \"class Person(object)\"\n",
    "class Person(object):\n",
    "     \n",
    "    # Constructor\n",
    "    def __init__(self, name):\n",
    "        self.name = name\n",
    " \n",
    "    # To get name\n",
    "    def getName(self):\n",
    "        return self.name\n",
    " \n",
    "    # To check if this person is employee\n",
    "    def isEmployee(self):\n",
    "        return False\n",
    " \n",
    " \n",
    "# Inherited or Sub class (Note Person in bracket)\n",
    "class Employee(Person):\n",
    " \n",
    "    # Here we return true\n",
    "    def isEmployee(self):\n",
    "        return True\n",
    " \n",
    "# Driver code\n",
    "emp = Person(\"Jayachandra\")  # An Object of Person\n",
    "print(emp.getName(), emp.isEmployee())\n",
    " \n",
    "emp = Employee(\"Manjula\") # An Object of Employee\n",
    "print(emp.getName(), emp.isEmployee())\n"
   ]
  },
  {
   "cell_type": "code",
   "execution_count": null,
   "metadata": {},
   "outputs": [],
   "source": [
    "# Python example to check if a class is\n",
    "# subclass of another\n",
    " \n",
    "class Base(object):\n",
    "    pass   # Empty Class\n",
    " \n",
    "class Derived(Base):\n",
    "    pass   # Empty Class\n",
    " \n",
    "# Driver Code\n",
    "print(issubclass(Derived, Base))\n",
    "print(issubclass(Base, Derived))\n",
    " \n",
    "d = Derived()\n",
    "b = Base()\n",
    " \n",
    "# b is not an instance of Derived\n",
    "print(isinstance(b, Derived))\n",
    " \n",
    "# But d is an instance of Base\n",
    "print(isinstance(d, Base))"
   ]
  },
  {
   "cell_type": "markdown",
   "metadata": {},
   "source": [
    "### Multiple inheritance"
   ]
  },
  {
   "cell_type": "code",
   "execution_count": null,
   "metadata": {},
   "outputs": [],
   "source": [
    "# Unlike Java and like C++, Python supports multiple inheritance. We specify all parent classes as comma separated list in \n",
    "# bracket.\n",
    "\n",
    "# Python example to show working of multiple \n",
    "# inheritance\n",
    "class Base1(object):\n",
    "    def __init__(self):\n",
    "        self.str1 = \"Jayachandra\"\n",
    "        print (\"Base1\")\n",
    " \n",
    "class Base2(object):\n",
    "    def __init__(self):\n",
    "        self.str2 = \"Sonu\"       \n",
    "        print (\"Base2\")\n",
    " \n",
    "class Derived(Base1, Base2):\n",
    "    def __init__(self):\n",
    "         \n",
    "        # Calling constructors of Base1\n",
    "        # and Base2 classes\n",
    "        Base1.__init__(self)\n",
    "        Base2.__init__(self)\n",
    "        print (\"Derived\")\n",
    "         \n",
    "    def printStrs(self):\n",
    "        print(self.str1, self.str2)\n",
    "        \n",
    " \n",
    "ob = Derived()\n",
    "ob.printStrs()"
   ]
  },
  {
   "cell_type": "markdown",
   "metadata": {},
   "source": [
    "### Accessing Parent members in a derived class"
   ]
  },
  {
   "cell_type": "code",
   "execution_count": null,
   "metadata": {},
   "outputs": [],
   "source": [
    "# Python example to show that base\n",
    "# class members can be accessed in\n",
    "# derived class using base class name\n",
    "class Base(object):\n",
    " \n",
    "    # Constructor\n",
    "    def __init__(self, x):\n",
    "        self.x = x    \n",
    " \n",
    "class Derived(Base):\n",
    " \n",
    "    # Constructor\n",
    "    def __init__(self, x, y):\n",
    "        Base.x = x \n",
    "        self.y = y\n",
    " \n",
    "    def printXY(self):\n",
    "      \n",
    "       # print(self.x, self.y) will also work\n",
    "       print(Base.x, self.y)\n",
    " \n",
    " \n",
    "# Driver Code\n",
    "d = Derived(10, 20)\n",
    "d.printXY()"
   ]
  },
  {
   "cell_type": "code",
   "execution_count": null,
   "metadata": {},
   "outputs": [],
   "source": [
    "# Python example to show that base\n",
    "# class members can be accessed in\n",
    "# derived class using super()\n",
    "class Base(object):\n",
    " \n",
    "    # Constructor\n",
    "    def __init__(self, x):\n",
    "        self.x = x    \n",
    " \n",
    "class Derived(Base):\n",
    " \n",
    "    # Constructor\n",
    "    def __init__(self, x, y):\n",
    "         \n",
    "        ''' In Python 3.x, \"super().__init__(name)\"\n",
    "            also works'''\n",
    "        super(Derived, self).__init__(x)\n",
    "        self.y = y\n",
    " \n",
    "    def printXY(self):\n",
    " \n",
    "       # Note that Base.x won't work here\n",
    "       # because super() is used in constructor\n",
    "       print(self.x, self.y)\n",
    " \n",
    " \n",
    "# Driver Code\n",
    "d = Derived(10, 20)\n",
    "d.printXY()"
   ]
  },
  {
   "cell_type": "markdown",
   "metadata": {},
   "source": [
    "### Order of constructors in parent and derived classes"
   ]
  },
  {
   "cell_type": "code",
   "execution_count": null,
   "metadata": {},
   "outputs": [],
   "source": [
    "class Parent:        # define parent class\n",
    "   parentAttr = 100\n",
    "   def __init__(self):\n",
    "      print (\"Calling parent constructor\")\n",
    "\n",
    "   def parentMethod(self):\n",
    "      print ('Calling parent method')\n",
    "\n",
    "   def setAttr(self, attr):\n",
    "      Parent.parentAttr = attr\n",
    "\n",
    "   def getAttr(self):\n",
    "      print (\"Parent attribute :\", Parent.parentAttr)\n",
    "\n",
    "class Child(Parent): # define child class\n",
    "   def __init__(self):\n",
    "      print (\"Calling child constructor\")\n",
    "\n",
    "   def childMethod(self):\n",
    "      print ('Calling child method')\n",
    "\n",
    "c = Child()          # instance of child\n",
    "c.childMethod()      # child calls its method\n",
    "c.parentMethod()     # calls parent's method\n",
    "c.setAttr(200)       # again call parent's method\n",
    "c.getAttr()          # again call parent's method\n",
    "p=Parent()"
   ]
  },
  {
   "cell_type": "markdown",
   "metadata": {},
   "source": [
    "### Overriding"
   ]
  },
  {
   "cell_type": "code",
   "execution_count": null,
   "metadata": {},
   "outputs": [],
   "source": [
    "# Overriding is the process of modifying base class method definition in derived class.\n",
    "# Tip: python doesn’t support method overloading like C++ or Java\n",
    "\n",
    "class Parent:        # define parent class\n",
    "   def myMethod(self):\n",
    "      print ('Calling parent method')\n",
    "\n",
    "class Child(Parent): # define child class\n",
    "   def myMethod(self):\n",
    "      print ('Calling child method')\n",
    "\n",
    "c = Child()          # instance of child\n",
    "c.myMethod()         # child calls overridden method\n",
    "p=Parent()\n",
    "p.myMethod()"
   ]
  },
  {
   "cell_type": "markdown",
   "metadata": {},
   "source": [
    "### Class or static variables"
   ]
  },
  {
   "cell_type": "code",
   "execution_count": null,
   "metadata": {},
   "outputs": [],
   "source": [
    "# Python program to show that the variables with a value \n",
    "# assigned in class declaration, are class variables\n",
    " \n",
    "# Class for Computer Science Student\n",
    "class CSStudent:\n",
    "    stream = 'cse'                  # Class Variable\n",
    "    def __init__(self,name,roll):\n",
    "        self.name = name            # Instance Variable\n",
    "        self.roll = roll            # Instance Variable\n",
    " \n",
    "# Objects of CSStudent class\n",
    "a = CSStudent('Geek', 1)\n",
    "b = CSStudent('Nerd', 2)\n",
    " \n",
    "print(a.stream)  # prints \"cse\"\n",
    "print(b.stream)  # prints \"cse\"\n",
    "print(a.name)    # prints \"Geek\"\n",
    "print(b.name)    # prints \"Nerd\"\n",
    "print(a.roll)    # prints \"1\"\n",
    "print(b.roll)    # prints \"2\"\n",
    " \n",
    "# Class variables can be accessed using class\n",
    "# name also\n",
    "print(CSStudent.stream) # prints \"cse\""
   ]
  },
  {
   "cell_type": "markdown",
   "metadata": {},
   "source": [
    "### class method vs static method in Python"
   ]
  },
  {
   "cell_type": "code",
   "execution_count": null,
   "metadata": {},
   "outputs": [],
   "source": [
    "# Python program to demonstrate \n",
    "# use of class method and static method.\n",
    "from datetime import date\n",
    " \n",
    "class Person:\n",
    "    def __init__(self, name, age):\n",
    "        self.name = name\n",
    "        self.age = age\n",
    "     \n",
    "    # a class method to create a Person object by birth year.\n",
    "    @classmethod\n",
    "    def fromBirthYear(cls, name, year):\n",
    "        return cls(name, date.today().year - year)\n",
    "     \n",
    "    # a static method to check if a Person is adult or not.\n",
    "    @staticmethod\n",
    "    def isAdult(age):\n",
    "        return age > 18\n",
    " \n",
    "person1 = Person('mayank', 21)\n",
    "person2 = Person.fromBirthYear('mayank', 1996)\n",
    " \n",
    "print (person1.age)\n",
    "print (person2.age)\n",
    " \n",
    "# print the result\n",
    "print (Person.isAdult(22))"
   ]
  },
  {
   "cell_type": "markdown",
   "metadata": {},
   "source": [
    "### Changing Class Members in Python"
   ]
  },
  {
   "cell_type": "code",
   "execution_count": null,
   "metadata": {},
   "outputs": [],
   "source": [
    "# We should be careful when changing value of class variable. If we try to change class variable using object, a new instance \n",
    "# (or non-static) variable for that particular object is created and this variable shadows the class variables. Below is Python \n",
    "# program to demonstrate the same.\n",
    "\n",
    "# Class for Computer Science Student\n",
    "class CSStudent:\n",
    "    stream = 'cse'     # Class Variable \n",
    "    def __init__(self, name, roll):\n",
    "        self.name = name \n",
    "        self.roll = roll\n",
    " \n",
    "# Driver program to test the functionality\n",
    "# Creating objects of CSStudent class\n",
    "a = CSStudent(\"Geek\", 1)\n",
    "b = CSStudent(\"Nerd\", 2)\n",
    " \n",
    "print (\"Initially\")\n",
    "print (\"a.stream =\", a.stream)\n",
    "print (\"b.stream =\", b.stream )\n",
    " \n",
    "# This thing doesn't change class(static) variable\n",
    "# Instead creates instance variable for the object\n",
    "# 'a' that shadows class member.\n",
    "a.stream = \"ece\"\n",
    " \n",
    "print (\"\\nAfter changing a.stream\")\n",
    "print (\"a.stream =\", a.stream)\n",
    "print (\"b.stream =\", b.stream)\n"
   ]
  },
  {
   "cell_type": "code",
   "execution_count": null,
   "metadata": {},
   "outputs": [],
   "source": [
    "# We should change class variables using class name only.\n",
    "\n",
    "# Program to show how to make changes to the\n",
    "# class variable in Python\n",
    " \n",
    "# Class for Computer Science Student\n",
    "class CSStudent:\n",
    "    stream = 'cse'     # Class Variable \n",
    "    def __init__(self, name, roll):\n",
    "        self.name = name \n",
    "        self.roll = roll\n",
    " \n",
    "# New object for further implementation\n",
    "a = CSStudent(\"check\", 3)\n",
    "print (\"a.tream =\", a.stream)\n",
    " \n",
    "# Correct way to change the value of class variable\n",
    "CSStudent.stream = \"mec\"\n",
    "print (\"\\nClass variable changes to mec\")\n",
    " \n",
    "# New object for further implementation\n",
    "b = CSStudent(\"carter\", 4)\n",
    " \n",
    "print (\"\\nValue of variable steam for each object\")\n",
    "print (\"a.stream =\", a.stream)\n",
    "print (\"b.stream =\", b.stream)\n"
   ]
  },
  {
   "cell_type": "markdown",
   "metadata": {},
   "source": [
    "### Exception Handling\n"
   ]
  },
  {
   "cell_type": "code",
   "execution_count": null,
   "metadata": {},
   "outputs": [],
   "source": [
    "# Python program to handle simple runtime error\n",
    " \n",
    "a = [1, 2, 3]\n",
    "try: \n",
    "    print (\"Second element = %d\" %(a[1]))\n",
    " \n",
    "    # Throws error since there are only 3 elements in array\n",
    "    print (\"Fourth element = %d\" %(a[3]) )\n",
    " \n",
    "except IndexError:\n",
    "    print (\"An error occurred\")"
   ]
  },
  {
   "cell_type": "code",
   "execution_count": null,
   "metadata": {},
   "outputs": [],
   "source": [
    "# A try statement can have more than one except clause, to specify handlers for different exceptions. Please note that at\n",
    "# most one handler will be executed.\n",
    "\n",
    "# Program to handle multiple errors with one except statement\n",
    "try : \n",
    "    apple = 3\n",
    "    if apple < 4 :\n",
    " \n",
    "        # throws ZeroDivisionError for a = 3 \n",
    "        ball = apple/(apple-3)\n",
    "     \n",
    "    # throws NameError if a >= 4\n",
    "    print (\"Value of ball = \", ball)\n",
    " \n",
    "# note that braces () are necessary here for multiple exceptions\n",
    "except(ZeroDivisionError, NameError):\n",
    "    print (\"\\nError Occurred and Handled\")"
   ]
  },
  {
   "cell_type": "code",
   "execution_count": null,
   "metadata": {},
   "outputs": [],
   "source": [
    "# Program to depict else clause with try-except\n",
    " \n",
    "# Function which returns a/b\n",
    "def AbyB(a , b):\n",
    "    try:\n",
    "        c = ((a+b) / (a-b))\n",
    "    except ZeroDivisionError:\n",
    "        print (\"a/b result in 0\")\n",
    "    else:\n",
    "        print (c)\n",
    " \n",
    "# Driver program to test above function\n",
    "AbyB(2.0, 3.0)\n",
    "AbyB(3.0, 3.0)"
   ]
  },
  {
   "cell_type": "code",
   "execution_count": null,
   "metadata": {},
   "outputs": [],
   "source": [
    "# Raising Exception: The raise statement allows the programmer to force a specific exception to occur. The sole argument in\n",
    "# raise indicates the exception to be raised. This must be either an exception instance or an exception class (a class that \n",
    "# derives from Exception).\n",
    "\n",
    "# Program to depict Raising Exception\n",
    " \n",
    "try: \n",
    "    raise NameError(\"Hi there\")  # Raise Error\n",
    "except NameError:\n",
    "    print (\"An exception\")\n",
    "    # raise  # To determine whether the exception was raised or not"
   ]
  },
  {
   "cell_type": "markdown",
   "metadata": {},
   "source": [
    "### User-defined Exceptions"
   ]
  },
  {
   "cell_type": "code",
   "execution_count": null,
   "metadata": {},
   "outputs": [],
   "source": [
    "# A python program to create user-defined exception\n",
    " \n",
    "# class MyError is derived from super class Exception\n",
    "class MyError(Exception):\n",
    " \n",
    "    # Constructor or Initializer\n",
    "    def __init__(self, value):\n",
    "        self.value = value\n",
    " \n",
    "    # __str__ is to print() the value\n",
    "    def __str__(self):\n",
    "        return(repr(self.value))\n",
    " \n",
    "try:\n",
    "    raise(MyError(3*2))\n",
    " \n",
    "# Value of Exception is stored in error\n",
    "except MyError as error: # error is an exception argument. An exception can have an argument, which is a value that gives\n",
    "                        # additional information about the  problem. The contents of the argument vary by exception.\n",
    "    print('A New Exception occured: ',error.value)"
   ]
  },
  {
   "cell_type": "code",
   "execution_count": null,
   "metadata": {},
   "outputs": [],
   "source": [
    "# Runtime error is a class is a standard exception which is raised when a generated error does not fall into any category. \n",
    "# This program illustrates how to use runtime error as base class and network error as derived class.\n",
    "\n",
    "# NetworkError has base RuntimeError\n",
    "# and not Exception\n",
    "class Networkerror(RuntimeError):\n",
    "    def __init__(self, arg):\n",
    "        self.args = arg\n",
    " \n",
    "try:\n",
    "    raise Networkerror(\"Error\")\n",
    " \n",
    "except Networkerror as e:\n",
    "    print (e.args)\n"
   ]
  },
  {
   "cell_type": "markdown",
   "metadata": {},
   "source": [
    " ### Built-in Exceptions"
   ]
  },
  {
   "cell_type": "code",
   "execution_count": null,
   "metadata": {},
   "outputs": [],
   "source": [
    "# BaseException is the base class for all built-in exceptions. It is not meant to be directly inherited by user-defined classes.\n",
    "# For, user-defined classes, Exception is used. There are many built-in exceptions a sample exception ArithmeticError is shown \n",
    "# below.\n",
    "try:  \n",
    "    a = 10/0 \n",
    "    print (a)\n",
    "except ArithmeticError:  \n",
    "        print (\"This statement is raising an arithmetic exception.\" )\n",
    "else:  \n",
    "    print (\"Success.\")\n"
   ]
  },
  {
   "cell_type": "code",
   "execution_count": null,
   "metadata": {},
   "outputs": [],
   "source": []
  }
 ],
 "metadata": {
  "kernelspec": {
   "display_name": "Python 3",
   "language": "python",
   "name": "python3"
  },
  "language_info": {
   "codemirror_mode": {
    "name": "ipython",
    "version": 3
   },
   "file_extension": ".py",
   "mimetype": "text/x-python",
   "name": "python",
   "nbconvert_exporter": "python",
   "pygments_lexer": "ipython3",
   "version": "3.6.4"
  }
 },
 "nbformat": 4,
 "nbformat_minor": 2
}
